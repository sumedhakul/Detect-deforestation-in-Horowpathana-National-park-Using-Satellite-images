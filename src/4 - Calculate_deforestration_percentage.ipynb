{
 "cells": [
  {
   "cell_type": "code",
   "execution_count": 1,
   "metadata": {},
   "outputs": [
    {
     "name": "stdout",
     "output_type": "stream",
     "text": [
      "Collecting datetime\n",
      "  Downloading DateTime-5.2-py3-none-any.whl (52 kB)\n",
      "                                              0.0/52.2 kB ? eta -:--:--\n",
      "     ----------------------                 30.7/52.2 kB 660.6 kB/s eta 0:00:01\n",
      "     -----------------------------          41.0/52.2 kB 393.8 kB/s eta 0:00:01\n",
      "     -------------------------------------- 52.2/52.2 kB 335.9 kB/s eta 0:00:00\n",
      "Collecting zope.interface (from datetime)\n",
      "  Downloading zope.interface-6.0-cp310-cp310-win_amd64.whl (204 kB)\n",
      "                                              0.0/204.1 kB ? eta -:--:--\n",
      "     -------                                 41.0/204.1 kB 1.9 MB/s eta 0:00:01\n",
      "     ------------                          71.7/204.1 kB 991.0 kB/s eta 0:00:01\n",
      "     --------------------                   112.6/204.1 kB 1.1 MB/s eta 0:00:01\n",
      "     -------------------------            143.4/204.1 kB 944.1 kB/s eta 0:00:01\n",
      "     ---------------------------          153.6/204.1 kB 919.0 kB/s eta 0:00:01\n",
      "     ----------------------------------   194.6/204.1 kB 787.7 kB/s eta 0:00:01\n",
      "     ------------------------------------ 204.1/204.1 kB 775.3 kB/s eta 0:00:00\n",
      "Requirement already satisfied: pytz in c:\\users\\user\\appdata\\local\\programs\\python\\python310\\lib\\site-packages (from datetime) (2023.3)\n",
      "Requirement already satisfied: setuptools in c:\\users\\user\\appdata\\local\\programs\\python\\python310\\lib\\site-packages (from zope.interface->datetime) (58.1.0)\n",
      "Installing collected packages: zope.interface, datetime\n",
      "Successfully installed datetime-5.2 zope.interface-6.0\n"
     ]
    },
    {
     "name": "stderr",
     "output_type": "stream",
     "text": [
      "\n",
      "[notice] A new release of pip is available: 23.1.2 -> 23.2.1\n",
      "[notice] To update, run: python.exe -m pip install --upgrade pip\n"
     ]
    }
   ],
   "source": [
    "!pip install datetime"
   ]
  },
  {
   "cell_type": "markdown",
   "metadata": {},
   "source": [
    "# Output csv file with deforested percentage"
   ]
  },
  {
   "cell_type": "code",
   "execution_count": 1,
   "metadata": {},
   "outputs": [
    {
     "name": "stdout",
     "output_type": "stream",
     "text": [
      "Output CSV file 'output_deforestation.csv' generated.\n"
     ]
    }
   ],
   "source": [
    "import pandas as pd\n",
    "import datetime\n",
    "\n",
    "# Load dataset\n",
    "data = pd.read_csv('../data/ndvi_dataframe.csv')\n",
    "\n",
    "# Extract date information from the \"Folder\" column\n",
    "data['date_str'] = data['Folder'].str.extract('_(\\d{8})_')\n",
    "data['date'] = pd.to_datetime(data['date_str'], format='%Y%m%d')\n",
    "first_date = data['date'].min()\n",
    "\n",
    "# Calculate NDVI decrease and deforestation percentage\n",
    "first_ndvi = data.loc[data['date'] == first_date, 'Average_NDVI'].values[0]\n",
    "data['NDVI_decrease'] = first_ndvi - data['Average_NDVI']\n",
    "data['Deforestation_Percentage'] = (data['NDVI_decrease'] / first_ndvi) * 100\n",
    "\n",
    "# Create the output data \n",
    "output_columns = ['date', 'Average_NDVI', 'Deforestation_Percentage']\n",
    "output_data = data[output_columns]\n",
    "\n",
    "# Create the output CSV file\n",
    "output_filename = 'output_deforestation.csv'\n",
    "output_data.to_csv(output_filename, index=False)\n",
    "\n",
    "print(f\"Output CSV file '{output_filename}' generated.\")\n"
   ]
  }
 ],
 "metadata": {
  "kernelspec": {
   "display_name": "Python 3",
   "language": "python",
   "name": "python3"
  },
  "language_info": {
   "codemirror_mode": {
    "name": "ipython",
    "version": 3
   },
   "file_extension": ".py",
   "mimetype": "text/x-python",
   "name": "python",
   "nbconvert_exporter": "python",
   "pygments_lexer": "ipython3",
   "version": "3.10.5"
  },
  "orig_nbformat": 4
 },
 "nbformat": 4,
 "nbformat_minor": 2
}
